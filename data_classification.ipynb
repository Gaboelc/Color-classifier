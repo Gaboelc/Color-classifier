{
 "cells": [
  {
   "cell_type": "code",
   "execution_count": 1,
   "metadata": {},
   "outputs": [],
   "source": [
    "import pandas as pd\n",
    "import glob\n",
    "import itertools"
   ]
  },
  {
   "cell_type": "code",
   "execution_count": 55,
   "metadata": {},
   "outputs": [],
   "source": [
    "csvfiles = glob.glob('color_data/*.csv')\n",
    "dataframes = []\n",
    "tags = ['Black/gray', 'Blue', 'Brown', 'Green', 'Metal', 'Orange', 'Red',\n",
    "        'Violet', 'White', 'Yellow']\n",
    "\n",
    "for (csvfile, tag) in zip(csvfiles,tags):\n",
    "    temp_df = pd.read_csv(csvfile, header=[0])\n",
    "    temp_df.columns = temp_df.iloc[0]\n",
    "    temp_df = temp_df[1:].reset_index(drop=True).drop(temp_df.columns[[0,2,5,6]], axis=1)\n",
    "    temp_df['Color Type'] = tag\n",
    "    \n",
    "    dataframes.append(temp_df)\n",
    "    \n",
    "df = pd.concat(dataframes, ignore_index=True)"
   ]
  },
  {
   "cell_type": "code",
   "execution_count": 66,
   "metadata": {},
   "outputs": [
    {
     "data": {
      "text/plain": [
       "0\n",
       "Color Name    14\n",
       "R;G;B Dec      0\n",
       "RGB Hex        0\n",
       "Color Type     0\n",
       "dtype: int64"
      ]
     },
     "execution_count": 66,
     "metadata": {},
     "output_type": "execute_result"
    }
   ],
   "source": [
    "df.isnull().sum()"
   ]
  },
  {
   "cell_type": "code",
   "execution_count": 74,
   "metadata": {},
   "outputs": [
    {
     "data": {
      "text/html": [
       "<div>\n",
       "<style scoped>\n",
       "    .dataframe tbody tr th:only-of-type {\n",
       "        vertical-align: middle;\n",
       "    }\n",
       "\n",
       "    .dataframe tbody tr th {\n",
       "        vertical-align: top;\n",
       "    }\n",
       "\n",
       "    .dataframe thead th {\n",
       "        text-align: right;\n",
       "    }\n",
       "</style>\n",
       "<table border=\"1\" class=\"dataframe\">\n",
       "  <thead>\n",
       "    <tr style=\"text-align: right;\">\n",
       "      <th></th>\n",
       "      <th>Color Name</th>\n",
       "      <th>R;G;B Dec</th>\n",
       "      <th>RGB Hex</th>\n",
       "      <th>Color Type</th>\n",
       "    </tr>\n",
       "  </thead>\n",
       "  <tbody>\n",
       "    <tr>\n",
       "      <th>0</th>\n",
       "      <td>Grey</td>\n",
       "      <td>84;84;84</td>\n",
       "      <td>545454</td>\n",
       "      <td>Black/gray</td>\n",
       "    </tr>\n",
       "    <tr>\n",
       "      <th>1</th>\n",
       "      <td>Grey, Silver</td>\n",
       "      <td>192;192;192</td>\n",
       "      <td>C0C0C0</td>\n",
       "      <td>Black/gray</td>\n",
       "    </tr>\n",
       "    <tr>\n",
       "      <th>2</th>\n",
       "      <td>grey</td>\n",
       "      <td>190;190;190</td>\n",
       "      <td>BEBEBE</td>\n",
       "      <td>Black/gray</td>\n",
       "    </tr>\n",
       "    <tr>\n",
       "      <th>3</th>\n",
       "      <td>LightGray</td>\n",
       "      <td>211;211;211</td>\n",
       "      <td>D3D3D3</td>\n",
       "      <td>Black/gray</td>\n",
       "    </tr>\n",
       "    <tr>\n",
       "      <th>4</th>\n",
       "      <td>LightSlateGrey</td>\n",
       "      <td>119;136;153</td>\n",
       "      <td>778899</td>\n",
       "      <td>Black/gray</td>\n",
       "    </tr>\n",
       "    <tr>\n",
       "      <th>...</th>\n",
       "      <td>...</td>\n",
       "      <td>...</td>\n",
       "      <td>...</td>\n",
       "      <td>...</td>\n",
       "    </tr>\n",
       "    <tr>\n",
       "      <th>641</th>\n",
       "      <td>gold3</td>\n",
       "      <td>205;173;0</td>\n",
       "      <td>CDAD00</td>\n",
       "      <td>Yellow</td>\n",
       "    </tr>\n",
       "    <tr>\n",
       "      <th>642</th>\n",
       "      <td>gold4</td>\n",
       "      <td>139;117;0</td>\n",
       "      <td>8B7500</td>\n",
       "      <td>Yellow</td>\n",
       "    </tr>\n",
       "    <tr>\n",
       "      <th>643</th>\n",
       "      <td>Goldenrod</td>\n",
       "      <td>219;219;112</td>\n",
       "      <td>DBDB70</td>\n",
       "      <td>Yellow</td>\n",
       "    </tr>\n",
       "    <tr>\n",
       "      <th>644</th>\n",
       "      <td>Medium Goldenrod</td>\n",
       "      <td>234;234;174</td>\n",
       "      <td>EAEAAE</td>\n",
       "      <td>Yellow</td>\n",
       "    </tr>\n",
       "    <tr>\n",
       "      <th>645</th>\n",
       "      <td>Yellow Green</td>\n",
       "      <td>153;204;50</td>\n",
       "      <td>99CC32</td>\n",
       "      <td>Yellow</td>\n",
       "    </tr>\n",
       "  </tbody>\n",
       "</table>\n",
       "<p>646 rows × 4 columns</p>\n",
       "</div>"
      ],
      "text/plain": [
       "0          Color Name    R;G;B Dec RGB Hex  Color Type\n",
       "0                Grey     84;84;84  545454  Black/gray\n",
       "1        Grey, Silver  192;192;192  C0C0C0  Black/gray\n",
       "2                grey  190;190;190  BEBEBE  Black/gray\n",
       "3           LightGray  211;211;211  D3D3D3  Black/gray\n",
       "4      LightSlateGrey  119;136;153  778899  Black/gray\n",
       "..                ...          ...     ...         ...\n",
       "641             gold3    205;173;0  CDAD00      Yellow\n",
       "642             gold4    139;117;0  8B7500      Yellow\n",
       "643         Goldenrod  219;219;112  DBDB70      Yellow\n",
       "644  Medium Goldenrod  234;234;174  EAEAAE      Yellow\n",
       "645      Yellow Green   153;204;50  99CC32      Yellow\n",
       "\n",
       "[646 rows x 4 columns]"
      ]
     },
     "execution_count": 74,
     "metadata": {},
     "output_type": "execute_result"
    }
   ],
   "source": [
    "df = df.dropna(subset=['Color Name']).reset_index(drop=True)\n",
    "df"
   ]
  },
  {
   "cell_type": "code",
   "execution_count": null,
   "metadata": {},
   "outputs": [],
   "source": []
  }
 ],
 "metadata": {
  "kernelspec": {
   "display_name": "Python 3.9.7 ('base')",
   "language": "python",
   "name": "python3"
  },
  "language_info": {
   "codemirror_mode": {
    "name": "ipython",
    "version": 3
   },
   "file_extension": ".py",
   "mimetype": "text/x-python",
   "name": "python",
   "nbconvert_exporter": "python",
   "pygments_lexer": "ipython3",
   "version": "3.9.7"
  },
  "orig_nbformat": 4,
  "vscode": {
   "interpreter": {
    "hash": "f49206fcf84a9145e7e21228cbafa911d1ac18292303b01e865d8267a9c448f7"
   }
  }
 },
 "nbformat": 4,
 "nbformat_minor": 2
}
