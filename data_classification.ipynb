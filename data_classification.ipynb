{
 "cells": [
  {
   "cell_type": "code",
   "execution_count": 1,
   "metadata": {},
   "outputs": [],
   "source": [
    "import pandas as pd\n",
    "import glob\n",
    "import itertools"
   ]
  },
  {
   "cell_type": "code",
   "execution_count": 55,
   "metadata": {},
   "outputs": [],
   "source": [
    "csvfiles = glob.glob('color_data/*.csv')\n",
    "dataframes = []\n",
    "tags = ['Black/gray', 'Blue', 'Brown', 'Green', 'Metal', 'Orange', 'Red',\n",
    "        'Violet', 'White', 'Yellow']\n",
    "\n",
    "for (csvfile, tag) in zip(csvfiles,tags):\n",
    "    temp_df = pd.read_csv(csvfile, header=[0])\n",
    "    temp_df.columns = temp_df.iloc[0]\n",
    "    temp_df = temp_df[1:].reset_index(drop=True).drop(temp_df.columns[[0,2,5,6]], axis=1)\n",
    "    temp_df['Color Type'] = tag\n",
    "    \n",
    "    dataframes.append(temp_df)\n",
    "    \n",
    "df = pd.concat(dataframes, ignore_index=True)"
   ]
  },
  {
   "cell_type": "code",
   "execution_count": null,
   "metadata": {},
   "outputs": [],
   "source": []
  }
 ],
 "metadata": {
  "kernelspec": {
   "display_name": "Python 3.9.7 ('base')",
   "language": "python",
   "name": "python3"
  },
  "language_info": {
   "codemirror_mode": {
    "name": "ipython",
    "version": 3
   },
   "file_extension": ".py",
   "mimetype": "text/x-python",
   "name": "python",
   "nbconvert_exporter": "python",
   "pygments_lexer": "ipython3",
   "version": "3.9.7"
  },
  "orig_nbformat": 4,
  "vscode": {
   "interpreter": {
    "hash": "f49206fcf84a9145e7e21228cbafa911d1ac18292303b01e865d8267a9c448f7"
   }
  }
 },
 "nbformat": 4,
 "nbformat_minor": 2
}
